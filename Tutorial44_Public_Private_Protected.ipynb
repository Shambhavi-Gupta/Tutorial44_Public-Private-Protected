{
  "nbformat": 4,
  "nbformat_minor": 0,
  "metadata": {
    "colab": {
      "name": "Tutorial44_Public-Private-Protected.ipynb",
      "provenance": [],
      "authorship_tag": "ABX9TyO3H48DjaiVLiHKz16ahI4s",
      "include_colab_link": true
    },
    "kernelspec": {
      "name": "python3",
      "display_name": "Python 3"
    }
  },
  "cells": [
    {
      "cell_type": "markdown",
      "metadata": {
        "id": "view-in-github",
        "colab_type": "text"
      },
      "source": [
        "<a href=\"https://colab.research.google.com/github/Shambhavi-Gupta/Tutorial44_Public-Private-Protected/blob/main/Tutorial44_Public_Private_Protected.ipynb\" target=\"_parent\"><img src=\"https://colab.research.google.com/assets/colab-badge.svg\" alt=\"Open In Colab\"/></a>"
      ]
    },
    {
      "cell_type": "code",
      "metadata": {
        "id": "EVVbL0fhm6q3"
      },
      "source": [
        "#public = everyone can use\r\n",
        "#protected = subclasses can use only i.e. child class\r\n",
        "#private = only class can use\r\n",
        "\r\n",
        "class Student:\r\n",
        "    no_of_subjects = 5 #class variable\r\n",
        "    _prot = 2 #protected\r\n",
        "    __pri = 100 #private\r\n",
        "\r\n",
        "    def __init__(self,aname,astandard,asection):\r\n",
        "        self.name = aname\r\n",
        "        self.standard = astandard\r\n",
        "        self.section = asection\r\n",
        "\r\n",
        "    def details(self):\r\n",
        "        return f\"Name is {self.name}, Standard is {self.standard}\"\r\n",
        "\r\n",
        "    # @classmethod\r\n",
        "    # def change_subject(cls , leaves):\r\n",
        "    #       cls.no_of_subjects = leaves\r\n",
        "    #\r\n",
        "    # @classmethod\r\n",
        "    # def from_str(cls,string):\r\n",
        "    #      return cls(*string.split(\"-\"))\r\n",
        "    #\r\n",
        "    # @staticmethod\r\n",
        "    # def printstr(string):\r\n",
        "    #     print(\"My name is \" + string)\r\n",
        "\r\n",
        "one = Student(\"Meena\",10,\"A\")\r\n",
        "#print(Student.no_of_subjects)\r\n",
        "#print(one._prot)\r\n",
        "#print(one.__pri)\r\n",
        "print(one._Student__pri) #known as name mangling"
      ],
      "execution_count": null,
      "outputs": []
    }
  ]
}